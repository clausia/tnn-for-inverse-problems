{
 "cells": [
  {
   "cell_type": "markdown",
   "id": "20cd3b4c",
   "metadata": {},
   "source": [
    "No está bien omitir al vecino y_nn de los vecinos del circulo naranja pues ya es en si un vecicno del y_new"
   ]
  },
  {
   "cell_type": "code",
   "execution_count": 1,
   "id": "42410b10",
   "metadata": {},
   "outputs": [],
   "source": [
    "import sys\n",
    "sys.path.append(\"..\")\n",
    "\n",
    "from TwinNeuralNetworkNearestNeighbors import TNNR_NN\n",
    "\n",
    "import matplotlib.pyplot as plt\n",
    "\n",
    "import numpy as np\n",
    "\n",
    "from datetime import datetime\n",
    "\n",
    "import gc"
   ]
  },
  {
   "cell_type": "code",
   "execution_count": 2,
   "id": "72c62d3d",
   "metadata": {},
   "outputs": [],
   "source": [
    "def_func = lambda a: lambda x: x**3 - a*x"
   ]
  },
  {
   "cell_type": "code",
   "execution_count": 3,
   "id": "a781f1ef",
   "metadata": {},
   "outputs": [],
   "source": [
    "n = 2100\n",
    "seed = 23497\n",
    "\n",
    "a = 70"
   ]
  },
  {
   "cell_type": "code",
   "execution_count": 4,
   "id": "8fe6cb07",
   "metadata": {},
   "outputs": [],
   "source": [
    "num_nn_train = [5]\n",
    "num_nn_test = [10, 5, 1, 15, 20]\n",
    "radius_nn_predict = [0.02]\n",
    "radius_sub_nn_predict = [0.01]"
   ]
  },
  {
   "cell_type": "code",
   "execution_count": 6,
   "id": "3830e5bc",
   "metadata": {
    "scrolled": false
   },
   "outputs": [
    {
     "name": "stdout",
     "output_type": "stream",
     "text": [
      "Test RMSE (plain):                                6.954632890226725\n",
      "Test RMSE (back to y-space):                      2.6832778034475417\n",
      "Test RMSE (min among clusters):                   3.8339333788430383\n",
      "Test RMSE (transformed back):                     6.954632890226725\n",
      "Test RMSE (min among clusters, transformed back): 3.8339333788430383\n",
      "Duration:              0:09:02.549599\n",
      "num_nn_train:          5\n",
      "num_nn_test:           10\n",
      "radius_nn_predict:     0.02\n",
      "radius_sub_nn_predict: 0.01\n",
      "\n",
      "Test RMSE (plain):                                6.931365201161162\n",
      "Test RMSE (back to y-space):                      2.2832895229398558\n",
      "Test RMSE (min among clusters):                   4.732622509038606\n",
      "Test RMSE (transformed back):                     6.931365201161163\n",
      "Test RMSE (min among clusters, transformed back): 4.732622509038606\n",
      "Duration:              0:05:34.655824\n",
      "num_nn_train:          5\n",
      "num_nn_test:           5\n",
      "radius_nn_predict:     0.02\n",
      "radius_sub_nn_predict: 0.01\n",
      "\n",
      "Test RMSE (plain):                                7.1862304462022815\n",
      "Test RMSE (back to y-space):                      2.1465357746937443\n",
      "Test RMSE (min among clusters):                   7.112349808665825\n",
      "Test RMSE (transformed back):                     7.186230446202282\n",
      "Test RMSE (min among clusters, transformed back): 7.112349808665825\n",
      "Duration:              0:02:43.724584\n",
      "num_nn_train:          5\n",
      "num_nn_test:           1\n",
      "radius_nn_predict:     0.02\n",
      "radius_sub_nn_predict: 0.01\n",
      "\n",
      "Test RMSE (plain):                                6.957720631666986\n",
      "Test RMSE (back to y-space):                      3.3603305972490385\n",
      "Test RMSE (min among clusters):                   3.3767159025845364\n",
      "Test RMSE (transformed back):                     6.957720631666986\n",
      "Test RMSE (min among clusters, transformed back): 3.3767159025845364\n",
      "Duration:              0:12:47.523290\n",
      "num_nn_train:          5\n",
      "num_nn_test:           15\n",
      "radius_nn_predict:     0.02\n",
      "radius_sub_nn_predict: 0.01\n",
      "\n",
      "Test RMSE (plain):                                6.964106182796075\n",
      "Test RMSE (back to y-space):                      4.378660422290941\n",
      "Test RMSE (min among clusters):                   3.0287950597743714\n",
      "Test RMSE (transformed back):                     6.964106182796076\n",
      "Test RMSE (min among clusters, transformed back): 3.028795059774372\n",
      "Duration:              0:16:32.792743\n",
      "num_nn_train:          5\n",
      "num_nn_test:           20\n",
      "radius_nn_predict:     0.02\n",
      "radius_sub_nn_predict: 0.01\n",
      "\n",
      "CPU times: user 3h 38min 45s, sys: 3h 22min 31s, total: 7h 1min 16s\n",
      "Wall time: 46min 41s\n"
     ]
    }
   ],
   "source": [
    "%%time\n",
    "\n",
    "for nn_train in num_nn_train:\n",
    "    for nn_test in num_nn_test:\n",
    "        for nn_predint in radius_nn_predict:\n",
    "            for sub_nn_predict in radius_sub_nn_predict:\n",
    "\n",
    "                start_time = datetime.now()\n",
    "\n",
    "                tnnr_nn_test_64 = TNNR_NN(def_func(a), n=n, seed=seed, inverse_problem=True, test_pct=0.2, val_pct=0.2,\n",
    "                                          show_summary=False, show_loss_plot=False, show_rmse=True, \n",
    "                                          mdl_wts_file='weights/tnnr_nn_test_64_Fnormal_n' + str(n) + '_inverse_a' + str(a),\n",
    "                                          num_nn_train=nn_train,\n",
    "                                          num_nn_test=nn_test,\n",
    "                                          radius_nn_predict=nn_predint,\n",
    "                                          radius_sub_nn_predict=sub_nn_predict)\n",
    "\n",
    "                end_time = datetime.now()\n",
    "                print('Duration:              {}'.format(end_time - start_time))\n",
    "                print('num_nn_train:          {}'.format(nn_train))\n",
    "                print('num_nn_test:           {}'.format(nn_test))\n",
    "                print('radius_nn_predict:     {}'.format(nn_predint))\n",
    "                print('radius_sub_nn_predict: {}'.format(sub_nn_predict))\n",
    "                print()\n",
    "                \n",
    "                del tnnr_nn_test_64\n",
    "                del start_time\n",
    "                del end_time\n",
    "                gc.collect()"
   ]
  },
  {
   "cell_type": "code",
   "execution_count": 7,
   "id": "22cac260",
   "metadata": {},
   "outputs": [
    {
     "data": {
      "text/plain": [
       "12160"
      ]
     },
     "execution_count": 7,
     "metadata": {},
     "output_type": "execute_result"
    }
   ],
   "source": [
    "gc.collect()"
   ]
  },
  {
   "cell_type": "code",
   "execution_count": 8,
   "id": "0da8f903",
   "metadata": {},
   "outputs": [
    {
     "name": "stdout",
     "output_type": "stream",
     "text": [
      "Test RMSE (plain):                                6.956497430828797\n",
      "Test RMSE (back to y-space):                      5.002255157717602\n",
      "Test RMSE (min among clusters):                   3.835607145628378\n",
      "Test RMSE (transformed back):                     6.956497430828797\n",
      "Test RMSE (min among clusters, transformed back): 3.835607145628378\n",
      "Duration:              0:09:07.290276\n",
      "num_nn_train:          5\n",
      "num_nn_test:           10\n",
      "radius_nn_predict:     0.02\n",
      "radius_sub_nn_predict: 0.01\n",
      "\n",
      "Test RMSE (plain):                                6.933083224176307\n",
      "Test RMSE (back to y-space):                      4.2179725327447875\n",
      "Test RMSE (min among clusters):                   4.7318968348574755\n",
      "Test RMSE (transformed back):                     6.933083224176307\n",
      "Test RMSE (min among clusters, transformed back): 4.7318968348574755\n",
      "Duration:              0:05:33.331535\n",
      "num_nn_train:          5\n",
      "num_nn_test:           5\n",
      "radius_nn_predict:     0.02\n",
      "radius_sub_nn_predict: 0.01\n",
      "\n",
      "Test RMSE (plain):                                7.188785521634352\n",
      "Test RMSE (back to y-space):                      3.863592609536663\n",
      "Test RMSE (min among clusters):                   7.0990219632250655\n",
      "Test RMSE (transformed back):                     7.188785521634352\n",
      "Test RMSE (min among clusters, transformed back): 7.0990219632250655\n",
      "Duration:              0:02:43.614074\n",
      "num_nn_train:          5\n",
      "num_nn_test:           1\n",
      "radius_nn_predict:     0.02\n",
      "radius_sub_nn_predict: 0.01\n",
      "\n",
      "Test RMSE (plain):                                6.959350529159205\n",
      "Test RMSE (back to y-space):                      6.108037430580765\n",
      "Test RMSE (min among clusters):                   3.37891452296053\n",
      "Test RMSE (transformed back):                     6.959350529159207\n",
      "Test RMSE (min among clusters, transformed back): 3.37891452296053\n",
      "Duration:              0:12:41.398847\n",
      "num_nn_train:          5\n",
      "num_nn_test:           15\n",
      "radius_nn_predict:     0.02\n",
      "radius_sub_nn_predict: 0.01\n",
      "\n",
      "Test RMSE (plain):                                6.966781153870116\n",
      "Test RMSE (back to y-space):                      6.929836793385911\n",
      "Test RMSE (min among clusters):                   3.031277994360602\n",
      "Test RMSE (transformed back):                     6.966781153870116\n",
      "Test RMSE (min among clusters, transformed back): 3.031277994360602\n",
      "Duration:              0:16:20.624646\n",
      "num_nn_train:          5\n",
      "num_nn_test:           20\n",
      "radius_nn_predict:     0.02\n",
      "radius_sub_nn_predict: 0.01\n",
      "\n",
      "CPU times: user 3h 42min 49s, sys: 3h 20min 51s, total: 7h 3min 40s\n",
      "Wall time: 46min 26s\n"
     ]
    }
   ],
   "source": [
    "%%time\n",
    "\n",
    "# F = 0\n",
    "\n",
    "for nn_train in num_nn_train:\n",
    "    for nn_test in num_nn_test:\n",
    "        for nn_predint in radius_nn_predict:\n",
    "            for sub_nn_predict in radius_sub_nn_predict:\n",
    "\n",
    "                start_time = datetime.now()\n",
    "\n",
    "                tnnr_nn_test_64 = TNNR_NN(def_func(a), n=n, seed=seed, inverse_problem=True, test_pct=0.2, val_pct=0.2,\n",
    "                                          show_summary=False, show_loss_plot=False, show_rmse=True, \n",
    "                                          mdl_wts_file='weights/tnnr_nn_test_64_Fnormal_n' + str(n) + '_inverse_a' + str(a),\n",
    "                                          num_nn_train=nn_train,\n",
    "                                          num_nn_test=nn_test,\n",
    "                                          radius_nn_predict=nn_predint,\n",
    "                                          radius_sub_nn_predict=sub_nn_predict,\n",
    "                                          zero_F_training=True)\n",
    "\n",
    "                end_time = datetime.now()\n",
    "                print('Duration:              {}'.format(end_time - start_time))\n",
    "                print('num_nn_train:          {}'.format(nn_train))\n",
    "                print('num_nn_test:           {}'.format(nn_test))\n",
    "                print('radius_nn_predict:     {}'.format(nn_predint))\n",
    "                print('radius_sub_nn_predict: {}'.format(sub_nn_predict))\n",
    "                print()\n",
    "                \n",
    "                del tnnr_nn_test_64\n",
    "                del start_time\n",
    "                del end_time\n",
    "                gc.collect()"
   ]
  },
  {
   "cell_type": "code",
   "execution_count": 9,
   "id": "e66a822f",
   "metadata": {},
   "outputs": [
    {
     "data": {
      "text/plain": [
       "12160"
      ]
     },
     "execution_count": 9,
     "metadata": {},
     "output_type": "execute_result"
    }
   ],
   "source": [
    "gc.collect()"
   ]
  },
  {
   "cell_type": "markdown",
   "id": "e474fb40",
   "metadata": {},
   "source": [
    "--------------"
   ]
  },
  {
   "cell_type": "code",
   "execution_count": 1,
   "id": "7f295b6b",
   "metadata": {},
   "outputs": [],
   "source": [
    "import sys\n",
    "sys.path.append(\"..\")\n",
    "\n",
    "from TwinNeuralNetworkNearestNeighbors import TNNR_NN\n",
    "\n",
    "import matplotlib.pyplot as plt\n",
    "\n",
    "import numpy as np\n",
    "\n",
    "from datetime import datetime\n",
    "\n",
    "import gc"
   ]
  },
  {
   "cell_type": "code",
   "execution_count": 2,
   "id": "388651ea",
   "metadata": {},
   "outputs": [],
   "source": [
    "def_func = lambda a: lambda x: x**3 - a*x"
   ]
  },
  {
   "cell_type": "code",
   "execution_count": 3,
   "id": "b39c9cfd",
   "metadata": {},
   "outputs": [],
   "source": [
    "n = 2100\n",
    "seed = 23497\n",
    "\n",
    "a = 70"
   ]
  },
  {
   "cell_type": "code",
   "execution_count": 10,
   "id": "672224c2",
   "metadata": {},
   "outputs": [],
   "source": [
    "num_nn_train = [5]\n",
    "num_nn_test = [1, 2]\n",
    "radius_nn_predict = [0.005, 0.02]\n",
    "radius_sub_nn_predict = [0.0005, 0.01]"
   ]
  },
  {
   "cell_type": "code",
   "execution_count": 11,
   "id": "13d6ff05",
   "metadata": {
    "scrolled": false
   },
   "outputs": [
    {
     "name": "stdout",
     "output_type": "stream",
     "text": [
      "Test RMSE (plain):                                7.135019841254117\n",
      "Test RMSE (back to y-space):                      0.827008488790195\n",
      "Test RMSE (min among clusters):                   7.118788034520615\n",
      "Test RMSE (transformed back):                     7.135019841254117\n",
      "Test RMSE (min among clusters, transformed back): 7.118788034520615\n",
      "Duration:              0:03:06.892079\n",
      "num_nn_train:          5\n",
      "num_nn_test:           1\n",
      "radius_nn_predict:     0.005\n",
      "radius_sub_nn_predict: 0.0005\n",
      "\n",
      "Test RMSE (plain):                                7.134954535136928\n",
      "Test RMSE (back to y-space):                      0.8585777569554484\n",
      "Test RMSE (min among clusters):                   7.134954535136928\n",
      "Test RMSE (transformed back):                     7.134954535136928\n",
      "Test RMSE (min among clusters, transformed back): 7.134954535136928\n",
      "Duration:              0:02:12.221488\n",
      "num_nn_train:          5\n",
      "num_nn_test:           1\n",
      "radius_nn_predict:     0.005\n",
      "radius_sub_nn_predict: 0.01\n",
      "\n",
      "Test RMSE (plain):                                7.185562039067478\n",
      "Test RMSE (back to y-space):                      1.9573288897393046\n",
      "Test RMSE (min among clusters):                   7.089713112081386\n",
      "Test RMSE (transformed back):                     7.185562039067479\n",
      "Test RMSE (min among clusters, transformed back): 7.089713112081386\n",
      "Duration:              0:06:10.933519\n",
      "num_nn_train:          5\n",
      "num_nn_test:           1\n",
      "radius_nn_predict:     0.02\n",
      "radius_sub_nn_predict: 0.0005\n",
      "\n",
      "Test RMSE (plain):                                7.1862304462022815\n",
      "Test RMSE (back to y-space):                      2.1465357746937443\n",
      "Test RMSE (min among clusters):                   7.112349808665825\n",
      "Test RMSE (transformed back):                     7.186230446202282\n",
      "Test RMSE (min among clusters, transformed back): 7.112349808665825\n",
      "Duration:              0:02:43.325723\n",
      "num_nn_train:          5\n",
      "num_nn_test:           1\n",
      "radius_nn_predict:     0.02\n",
      "radius_sub_nn_predict: 0.01\n",
      "\n",
      "Test RMSE (plain):                                6.875444526246129\n",
      "Test RMSE (back to y-space):                      0.8924742221749967\n",
      "Test RMSE (min among clusters):                   6.139829147397777\n",
      "Test RMSE (transformed back):                     6.875444526246129\n",
      "Test RMSE (min among clusters, transformed back): 6.139829147397777\n",
      "Duration:              0:04:04.704351\n",
      "num_nn_train:          5\n",
      "num_nn_test:           2\n",
      "radius_nn_predict:     0.005\n",
      "radius_sub_nn_predict: 0.0005\n",
      "\n",
      "Test RMSE (plain):                                6.875361683259312\n",
      "Test RMSE (back to y-space):                      0.9261819247744715\n",
      "Test RMSE (min among clusters):                   6.156119385108351\n",
      "Test RMSE (transformed back):                     6.875361683259312\n",
      "Test RMSE (min among clusters, transformed back): 6.156119385108351\n",
      "Duration:              0:02:29.667347\n",
      "num_nn_train:          5\n",
      "num_nn_test:           2\n",
      "radius_nn_predict:     0.005\n",
      "radius_sub_nn_predict: 0.01\n",
      "\n",
      "Test RMSE (plain):                                6.89907676150492\n",
      "Test RMSE (back to y-space):                      1.9353083222459024\n",
      "Test RMSE (min among clusters):                   6.062034463598798\n",
      "Test RMSE (transformed back):                     6.899076761504921\n",
      "Test RMSE (min among clusters, transformed back): 6.062034463598798\n",
      "Duration:              0:10:19.708245\n",
      "num_nn_train:          5\n",
      "num_nn_test:           2\n",
      "radius_nn_predict:     0.02\n",
      "radius_sub_nn_predict: 0.0005\n",
      "\n",
      "Test RMSE (plain):                                6.897767139661317\n",
      "Test RMSE (back to y-space):                      2.0684772241359863\n",
      "Test RMSE (min among clusters):                   6.080965381837688\n",
      "Test RMSE (transformed back):                     6.897767139661317\n",
      "Test RMSE (min among clusters, transformed back): 6.080965381837688\n",
      "Duration:              0:03:25.551021\n",
      "num_nn_train:          5\n",
      "num_nn_test:           2\n",
      "radius_nn_predict:     0.02\n",
      "radius_sub_nn_predict: 0.01\n",
      "\n",
      "CPU times: user 1h 50min 24s, sys: 1h 30min 2s, total: 3h 20min 26s\n",
      "Wall time: 34min 34s\n"
     ]
    }
   ],
   "source": [
    "%%time\n",
    "\n",
    "for nn_train in num_nn_train:\n",
    "    for nn_test in num_nn_test:\n",
    "        for nn_predint in radius_nn_predict:\n",
    "            for sub_nn_predict in radius_sub_nn_predict:\n",
    "\n",
    "                start_time = datetime.now()\n",
    "\n",
    "                tnnr_nn_test_64 = TNNR_NN(def_func(a), n=n, seed=seed, inverse_problem=True, test_pct=0.2, val_pct=0.2,\n",
    "                                          show_summary=False, show_loss_plot=False, show_rmse=True, \n",
    "                                          mdl_wts_file='weights/tnnr_nn_test_64_Fnormal_n' + str(n) + '_inverse_a' + str(a),\n",
    "                                          num_nn_train=nn_train,\n",
    "                                          num_nn_test=nn_test,\n",
    "                                          radius_nn_predict=nn_predint,\n",
    "                                          radius_sub_nn_predict=sub_nn_predict)\n",
    "\n",
    "                end_time = datetime.now()\n",
    "                print('Duration:              {}'.format(end_time - start_time))\n",
    "                print('num_nn_train:          {}'.format(nn_train))\n",
    "                print('num_nn_test:           {}'.format(nn_test))\n",
    "                print('radius_nn_predict:     {}'.format(nn_predint))\n",
    "                print('radius_sub_nn_predict: {}'.format(sub_nn_predict))\n",
    "                print()\n",
    "                \n",
    "                del tnnr_nn_test_64\n",
    "                del start_time\n",
    "                del end_time\n",
    "                gc.collect()"
   ]
  },
  {
   "cell_type": "code",
   "execution_count": 12,
   "id": "194878fc",
   "metadata": {},
   "outputs": [
    {
     "data": {
      "text/plain": [
       "19456"
      ]
     },
     "execution_count": 12,
     "metadata": {},
     "output_type": "execute_result"
    }
   ],
   "source": [
    "gc.collect()"
   ]
  },
  {
   "cell_type": "code",
   "execution_count": 13,
   "id": "9146026f",
   "metadata": {},
   "outputs": [
    {
     "name": "stdout",
     "output_type": "stream",
     "text": [
      "Test RMSE (plain):                                7.135187717164134\n",
      "Test RMSE (back to y-space):                      1.6788106734905348\n",
      "Test RMSE (min among clusters):                   7.1152553465002235\n",
      "Test RMSE (transformed back):                     7.135187717164134\n",
      "Test RMSE (min among clusters, transformed back): 7.1152553465002235\n",
      "Duration:              0:03:02.543425\n",
      "num_nn_train:          5\n",
      "num_nn_test:           1\n",
      "radius_nn_predict:     0.005\n",
      "radius_sub_nn_predict: 0.0005\n",
      "\n",
      "Test RMSE (plain):                                7.135037025283629\n",
      "Test RMSE (back to y-space):                      1.7320088681680093\n",
      "Test RMSE (min among clusters):                   7.135037025283629\n",
      "Test RMSE (transformed back):                     7.135037025283629\n",
      "Test RMSE (min among clusters, transformed back): 7.135037025283629\n",
      "Duration:              0:02:14.320716\n",
      "num_nn_train:          5\n",
      "num_nn_test:           1\n",
      "radius_nn_predict:     0.005\n",
      "radius_sub_nn_predict: 0.01\n",
      "\n",
      "Test RMSE (plain):                                7.186973022308096\n",
      "Test RMSE (back to y-space):                      3.889666987569204\n",
      "Test RMSE (min among clusters):                   7.07127884603014\n",
      "Test RMSE (transformed back):                     7.186973022308096\n",
      "Test RMSE (min among clusters, transformed back): 7.07127884603014\n",
      "Duration:              0:06:12.053536\n",
      "num_nn_train:          5\n",
      "num_nn_test:           1\n",
      "radius_nn_predict:     0.02\n",
      "radius_sub_nn_predict: 0.0005\n",
      "\n",
      "Test RMSE (plain):                                7.188785521634352\n",
      "Test RMSE (back to y-space):                      3.863592609536663\n",
      "Test RMSE (min among clusters):                   7.0990219632250655\n",
      "Test RMSE (transformed back):                     7.188785521634352\n",
      "Test RMSE (min among clusters, transformed back): 7.0990219632250655\n",
      "Duration:              0:02:43.042263\n",
      "num_nn_train:          5\n",
      "num_nn_test:           1\n",
      "radius_nn_predict:     0.02\n",
      "radius_sub_nn_predict: 0.01\n",
      "\n",
      "Test RMSE (plain):                                6.875690543573214\n",
      "Test RMSE (back to y-space):                      1.7407704474276136\n",
      "Test RMSE (min among clusters):                   6.138102489619354\n",
      "Test RMSE (transformed back):                     6.875690543573214\n",
      "Test RMSE (min among clusters, transformed back): 6.138102489619354\n",
      "Duration:              0:04:04.631004\n",
      "num_nn_train:          5\n",
      "num_nn_test:           2\n",
      "radius_nn_predict:     0.005\n",
      "radius_sub_nn_predict: 0.0005\n",
      "\n",
      "Test RMSE (plain):                                6.875480867066983\n",
      "Test RMSE (back to y-space):                      1.7907054857336706\n",
      "Test RMSE (min among clusters):                   6.15625435290908\n",
      "Test RMSE (transformed back):                     6.875480867066984\n",
      "Test RMSE (min among clusters, transformed back): 6.15625435290908\n",
      "Duration:              0:02:28.059447\n",
      "num_nn_train:          5\n",
      "num_nn_test:           2\n",
      "radius_nn_predict:     0.005\n",
      "radius_sub_nn_predict: 0.01\n",
      "\n",
      "Test RMSE (plain):                                6.9001476251951\n",
      "Test RMSE (back to y-space):                      3.709673715356733\n",
      "Test RMSE (min among clusters):                   6.053007431176615\n",
      "Test RMSE (transformed back):                     6.900147625195101\n",
      "Test RMSE (min among clusters, transformed back): 6.053007431176615\n",
      "Duration:              0:10:25.027196\n",
      "num_nn_train:          5\n",
      "num_nn_test:           2\n",
      "radius_nn_predict:     0.02\n",
      "radius_sub_nn_predict: 0.0005\n",
      "\n",
      "Test RMSE (plain):                                6.8992020310899305\n",
      "Test RMSE (back to y-space):                      3.6600758069197505\n",
      "Test RMSE (min among clusters):                   6.074339031130534\n",
      "Test RMSE (transformed back):                     6.8992020310899305\n",
      "Test RMSE (min among clusters, transformed back): 6.074339031130534\n",
      "Duration:              0:03:25.983961\n",
      "num_nn_train:          5\n",
      "num_nn_test:           2\n",
      "radius_nn_predict:     0.02\n",
      "radius_sub_nn_predict: 0.01\n",
      "\n",
      "CPU times: user 1h 50min 48s, sys: 1h 30min 6s, total: 3h 20min 54s\n",
      "Wall time: 34min 36s\n"
     ]
    }
   ],
   "source": [
    "%%time\n",
    "\n",
    "# F = 0\n",
    "\n",
    "for nn_train in num_nn_train:\n",
    "    for nn_test in num_nn_test:\n",
    "        for nn_predint in radius_nn_predict:\n",
    "            for sub_nn_predict in radius_sub_nn_predict:\n",
    "\n",
    "                start_time = datetime.now()\n",
    "\n",
    "                tnnr_nn_test_64 = TNNR_NN(def_func(a), n=n, seed=seed, inverse_problem=True, test_pct=0.2, val_pct=0.2,\n",
    "                                          show_summary=False, show_loss_plot=False, show_rmse=True, \n",
    "                                          mdl_wts_file='weights/tnnr_nn_test_64_Fnormal_n' + str(n) + '_inverse_a' + str(a),\n",
    "                                          num_nn_train=nn_train,\n",
    "                                          num_nn_test=nn_test,\n",
    "                                          radius_nn_predict=nn_predint,\n",
    "                                          radius_sub_nn_predict=sub_nn_predict,\n",
    "                                          zero_F_training=True)\n",
    "\n",
    "                end_time = datetime.now()\n",
    "                print('Duration:              {}'.format(end_time - start_time))\n",
    "                print('num_nn_train:          {}'.format(nn_train))\n",
    "                print('num_nn_test:           {}'.format(nn_test))\n",
    "                print('radius_nn_predict:     {}'.format(nn_predint))\n",
    "                print('radius_sub_nn_predict: {}'.format(sub_nn_predict))\n",
    "                print()\n",
    "                \n",
    "                del tnnr_nn_test_64\n",
    "                del start_time\n",
    "                del end_time\n",
    "                gc.collect()"
   ]
  },
  {
   "cell_type": "code",
   "execution_count": 14,
   "id": "a15121dd",
   "metadata": {},
   "outputs": [
    {
     "data": {
      "text/plain": [
       "19456"
      ]
     },
     "execution_count": 14,
     "metadata": {},
     "output_type": "execute_result"
    }
   ],
   "source": [
    "gc.collect()"
   ]
  },
  {
   "cell_type": "code",
   "execution_count": null,
   "id": "9907fc51",
   "metadata": {},
   "outputs": [],
   "source": []
  }
 ],
 "metadata": {
  "kernelspec": {
   "display_name": "Python 3 (ipykernel)",
   "language": "python",
   "name": "python3"
  },
  "language_info": {
   "codemirror_mode": {
    "name": "ipython",
    "version": 3
   },
   "file_extension": ".py",
   "mimetype": "text/x-python",
   "name": "python",
   "nbconvert_exporter": "python",
   "pygments_lexer": "ipython3",
   "version": "3.10.11"
  }
 },
 "nbformat": 4,
 "nbformat_minor": 5
}
