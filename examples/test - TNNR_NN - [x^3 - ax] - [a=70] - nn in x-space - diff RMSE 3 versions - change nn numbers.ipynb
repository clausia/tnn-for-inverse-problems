{
 "cells": [
  {
   "cell_type": "code",
   "execution_count": 1,
   "id": "42410b10",
   "metadata": {},
   "outputs": [],
   "source": [
    "import sys\n",
    "sys.path.append(\"..\")\n",
    "\n",
    "from TwinNeuralNetworkNearestNeighbors import TNNR_NN\n",
    "\n",
    "import matplotlib.pyplot as plt\n",
    "\n",
    "import numpy as np\n",
    "\n",
    "from datetime import datetime\n",
    "\n",
    "import gc"
   ]
  },
  {
   "cell_type": "code",
   "execution_count": 2,
   "id": "72c62d3d",
   "metadata": {},
   "outputs": [],
   "source": [
    "def_func = lambda a: lambda x: x**3 - a*x"
   ]
  },
  {
   "cell_type": "code",
   "execution_count": 3,
   "id": "a781f1ef",
   "metadata": {},
   "outputs": [],
   "source": [
    "n = 2100\n",
    "seed = 23497\n",
    "\n",
    "a = 70"
   ]
  },
  {
   "cell_type": "code",
   "execution_count": 4,
   "id": "8fe6cb07",
   "metadata": {},
   "outputs": [],
   "source": [
    "num_nn_train = [5]\n",
    "num_nn_test = [10, 5, 1, 15, 20]\n",
    "radius_nn_predict = [0.02]\n",
    "radius_sub_nn_predict = [0.01]"
   ]
  },
  {
   "cell_type": "code",
   "execution_count": 6,
   "id": "3830e5bc",
   "metadata": {
    "scrolled": false
   },
   "outputs": [
    {
     "name": "stdout",
     "output_type": "stream",
     "text": [
      "Test RMSE (plain):              6.954088347600203\n",
      "Test RMSE (back to y-space):    2.6557533506580375\n",
      "Test RMSE (min among clusters): 3.831191298975597\n",
      "Duration:              0:09:35.678279\n",
      "num_nn_train:          5\n",
      "num_nn_test:           10\n",
      "radius_nn_predict:     0.02\n",
      "radius_sub_nn_predict: 0.01\n",
      "\n",
      "Test RMSE (plain):              6.930084811437476\n",
      "Test RMSE (back to y-space):    2.3224789557136494\n",
      "Test RMSE (min among clusters): 4.729476480289962\n",
      "Duration:              0:06:02.952781\n",
      "num_nn_train:          5\n",
      "num_nn_test:           5\n",
      "radius_nn_predict:     0.02\n",
      "radius_sub_nn_predict: 0.01\n",
      "\n",
      "Test RMSE (plain):              7.18464692296238\n",
      "Test RMSE (back to y-space):    2.066246460898198\n",
      "Test RMSE (min among clusters): 7.1073197044974465\n",
      "Duration:              0:02:50.965369\n",
      "num_nn_train:          5\n",
      "num_nn_test:           1\n",
      "radius_nn_predict:     0.02\n",
      "radius_sub_nn_predict: 0.01\n",
      "\n",
      "Test RMSE (plain):              6.957867468520285\n",
      "Test RMSE (back to y-space):    3.299711132905807\n",
      "Test RMSE (min among clusters): 3.3742999520526307\n",
      "Duration:              0:13:06.333530\n",
      "num_nn_train:          5\n",
      "num_nn_test:           15\n",
      "radius_nn_predict:     0.02\n",
      "radius_sub_nn_predict: 0.01\n",
      "\n",
      "Test RMSE (plain):              6.964572712718618\n",
      "Test RMSE (back to y-space):    4.357642445345131\n",
      "Test RMSE (min among clusters): 3.028304775246957\n",
      "Duration:              0:16:29.465002\n",
      "num_nn_train:          5\n",
      "num_nn_test:           20\n",
      "radius_nn_predict:     0.02\n",
      "radius_sub_nn_predict: 0.01\n",
      "\n",
      "CPU times: user 3h 34min 16s, sys: 3h 26min 3s, total: 7h 19s\n",
      "Wall time: 48min 5s\n"
     ]
    }
   ],
   "source": [
    "%%time\n",
    "\n",
    "for nn_train in num_nn_train:\n",
    "    for nn_test in num_nn_test:\n",
    "        for nn_predint in radius_nn_predict:\n",
    "            for sub_nn_predict in radius_sub_nn_predict:\n",
    "\n",
    "                start_time = datetime.now()\n",
    "\n",
    "                tnnr_nn_test_64 = TNNR_NN(def_func(a), n=n, seed=seed, inverse_problem=True, test_pct=0.2, val_pct=0.2,\n",
    "                                          show_summary=False, show_loss_plot=False, show_rmse=True, \n",
    "                                          mdl_wts_file='weights/tnnr_nn_test_64_Fnormal_n' + str(n) + '_inverse_a' + str(a),\n",
    "                                          num_nn_train=nn_train,\n",
    "                                          num_nn_test=nn_test,\n",
    "                                          radius_nn_predict=nn_predint,\n",
    "                                          radius_sub_nn_predict=sub_nn_predict)\n",
    "\n",
    "                end_time = datetime.now()\n",
    "                print('Duration:              {}'.format(end_time - start_time))\n",
    "                print('num_nn_train:          {}'.format(nn_train))\n",
    "                print('num_nn_test:           {}'.format(nn_test))\n",
    "                print('radius_nn_predict:     {}'.format(nn_predint))\n",
    "                print('radius_sub_nn_predict: {}'.format(sub_nn_predict))\n",
    "                print()\n",
    "                \n",
    "                del tnnr_nn_test_64\n",
    "                del start_time\n",
    "                del end_time\n",
    "                gc.collect()"
   ]
  },
  {
   "cell_type": "code",
   "execution_count": 7,
   "id": "22cac260",
   "metadata": {},
   "outputs": [
    {
     "data": {
      "text/plain": [
       "12160"
      ]
     },
     "execution_count": 7,
     "metadata": {},
     "output_type": "execute_result"
    }
   ],
   "source": [
    "gc.collect()"
   ]
  },
  {
   "cell_type": "code",
   "execution_count": 8,
   "id": "0da8f903",
   "metadata": {},
   "outputs": [
    {
     "name": "stdout",
     "output_type": "stream",
     "text": [
      "Test RMSE (plain):              6.955532976792128\n",
      "Test RMSE (back to y-space):    4.913777959568158\n",
      "Test RMSE (min among clusters): 3.8327928121430626\n",
      "Duration:              0:09:14.494248\n",
      "num_nn_train:          5\n",
      "num_nn_test:           10\n",
      "radius_nn_predict:     0.02\n",
      "radius_sub_nn_predict: 0.01\n",
      "\n",
      "Test RMSE (plain):              6.9314162620298445\n",
      "Test RMSE (back to y-space):    4.311740787171351\n",
      "Test RMSE (min among clusters): 4.7289999292290235\n",
      "Duration:              0:05:37.493091\n",
      "num_nn_train:          5\n",
      "num_nn_test:           5\n",
      "radius_nn_predict:     0.02\n",
      "radius_sub_nn_predict: 0.01\n",
      "\n",
      "Test RMSE (plain):              7.185337529289356\n",
      "Test RMSE (back to y-space):    3.5869792046721054\n",
      "Test RMSE (min among clusters): 7.090918747827405\n",
      "Duration:              0:02:43.230166\n",
      "num_nn_train:          5\n",
      "num_nn_test:           1\n",
      "radius_nn_predict:     0.02\n",
      "radius_sub_nn_predict: 0.01\n",
      "\n",
      "Test RMSE (plain):              6.959370580380669\n",
      "Test RMSE (back to y-space):    6.020528090607588\n",
      "Test RMSE (min among clusters): 3.376511165495559\n",
      "Duration:              0:12:50.651946\n",
      "num_nn_train:          5\n",
      "num_nn_test:           15\n",
      "radius_nn_predict:     0.02\n",
      "radius_sub_nn_predict: 0.01\n",
      "\n",
      "Test RMSE (plain):              6.966957280819694\n",
      "Test RMSE (back to y-space):    6.924043668018165\n",
      "Test RMSE (min among clusters): 3.030698802696429\n",
      "Duration:              0:16:36.692271\n",
      "num_nn_train:          5\n",
      "num_nn_test:           20\n",
      "radius_nn_predict:     0.02\n",
      "radius_sub_nn_predict: 0.01\n",
      "\n",
      "CPU times: user 3h 36min 14s, sys: 3h 25min 45s, total: 7h 1min 59s\n",
      "Wall time: 47min 3s\n"
     ]
    }
   ],
   "source": [
    "%%time\n",
    "\n",
    "# F = 0\n",
    "\n",
    "for nn_train in num_nn_train:\n",
    "    for nn_test in num_nn_test:\n",
    "        for nn_predint in radius_nn_predict:\n",
    "            for sub_nn_predict in radius_sub_nn_predict:\n",
    "\n",
    "                start_time = datetime.now()\n",
    "\n",
    "                tnnr_nn_test_64 = TNNR_NN(def_func(a), n=n, seed=seed, inverse_problem=True, test_pct=0.2, val_pct=0.2,\n",
    "                                          show_summary=False, show_loss_plot=False, show_rmse=True, \n",
    "                                          mdl_wts_file='weights/tnnr_nn_test_64_Fnormal_n' + str(n) + '_inverse_a' + str(a),\n",
    "                                          num_nn_train=nn_train,\n",
    "                                          num_nn_test=nn_test,\n",
    "                                          radius_nn_predict=nn_predint,\n",
    "                                          radius_sub_nn_predict=sub_nn_predict,\n",
    "                                          zero_F_training=True)\n",
    "\n",
    "                end_time = datetime.now()\n",
    "                print('Duration:              {}'.format(end_time - start_time))\n",
    "                print('num_nn_train:          {}'.format(nn_train))\n",
    "                print('num_nn_test:           {}'.format(nn_test))\n",
    "                print('radius_nn_predict:     {}'.format(nn_predint))\n",
    "                print('radius_sub_nn_predict: {}'.format(sub_nn_predict))\n",
    "                print()\n",
    "                \n",
    "                del tnnr_nn_test_64\n",
    "                del start_time\n",
    "                del end_time\n",
    "                gc.collect()"
   ]
  },
  {
   "cell_type": "code",
   "execution_count": 9,
   "id": "e66a822f",
   "metadata": {},
   "outputs": [
    {
     "data": {
      "text/plain": [
       "12160"
      ]
     },
     "execution_count": 9,
     "metadata": {},
     "output_type": "execute_result"
    }
   ],
   "source": [
    "gc.collect()"
   ]
  },
  {
   "cell_type": "markdown",
   "id": "e474fb40",
   "metadata": {},
   "source": [
    "--------------"
   ]
  },
  {
   "cell_type": "code",
   "execution_count": 1,
   "id": "7f295b6b",
   "metadata": {},
   "outputs": [],
   "source": [
    "import sys\n",
    "sys.path.append(\"..\")\n",
    "\n",
    "from TwinNeuralNetworkNearestNeighbors import TNNR_NN\n",
    "\n",
    "import matplotlib.pyplot as plt\n",
    "\n",
    "import numpy as np\n",
    "\n",
    "from datetime import datetime\n",
    "\n",
    "import gc"
   ]
  },
  {
   "cell_type": "code",
   "execution_count": 2,
   "id": "388651ea",
   "metadata": {},
   "outputs": [],
   "source": [
    "def_func = lambda a: lambda x: x**3 - a*x"
   ]
  },
  {
   "cell_type": "code",
   "execution_count": 3,
   "id": "b39c9cfd",
   "metadata": {},
   "outputs": [],
   "source": [
    "n = 2100\n",
    "seed = 23497\n",
    "\n",
    "a = 70"
   ]
  },
  {
   "cell_type": "code",
   "execution_count": 4,
   "id": "672224c2",
   "metadata": {},
   "outputs": [],
   "source": [
    "num_nn_train = [5]\n",
    "num_nn_test = [1, 2]\n",
    "radius_nn_predict = [0.005, 0.02]\n",
    "radius_sub_nn_predict = [0.0005, 0.01]"
   ]
  },
  {
   "cell_type": "code",
   "execution_count": 6,
   "id": "13d6ff05",
   "metadata": {
    "scrolled": false
   },
   "outputs": [
    {
     "name": "stdout",
     "output_type": "stream",
     "text": [
      "Test RMSE (plain):              7.184882916544075\n",
      "Test RMSE (back to y-space):    0.7335503614934911\n",
      "Test RMSE (min among clusters): 7.1669770550296175\n",
      "Duration:              0:03:14.273303\n",
      "num_nn_train:          5\n",
      "num_nn_test:           1\n",
      "radius_nn_predict:     0.005\n",
      "radius_sub_nn_predict: 0.0005\n",
      "\n",
      "Test RMSE (plain):              7.1848940304412645\n",
      "Test RMSE (back to y-space):    0.7661472532696981\n",
      "Test RMSE (min among clusters): 7.1848940304412645\n",
      "Duration:              0:02:15.495221\n",
      "num_nn_train:          5\n",
      "num_nn_test:           1\n",
      "radius_nn_predict:     0.005\n",
      "radius_sub_nn_predict: 0.01\n",
      "\n",
      "Test RMSE (plain):              7.185072356847101\n",
      "Test RMSE (back to y-space):    1.9276310946862063\n",
      "Test RMSE (min among clusters): 7.087038515002895\n",
      "Duration:              0:06:29.464304\n",
      "num_nn_train:          5\n",
      "num_nn_test:           1\n",
      "radius_nn_predict:     0.02\n",
      "radius_sub_nn_predict: 0.0005\n",
      "\n",
      "Test RMSE (plain):              7.18464692296238\n",
      "Test RMSE (back to y-space):    2.066246460898198\n",
      "Test RMSE (min among clusters): 7.1073197044974465\n",
      "Duration:              0:02:53.139667\n",
      "num_nn_train:          5\n",
      "num_nn_test:           1\n",
      "radius_nn_predict:     0.02\n",
      "radius_sub_nn_predict: 0.01\n",
      "\n",
      "Test RMSE (plain):              6.898761661147582\n",
      "Test RMSE (back to y-space):    0.811152713213288\n",
      "Test RMSE (min among clusters): 6.138605359921384\n",
      "Duration:              0:04:21.779543\n",
      "num_nn_train:          5\n",
      "num_nn_test:           2\n",
      "radius_nn_predict:     0.005\n",
      "radius_sub_nn_predict: 0.0005\n",
      "\n",
      "Test RMSE (plain):              6.898659218047668\n",
      "Test RMSE (back to y-space):    0.8384922167187383\n",
      "Test RMSE (min among clusters): 6.1565045862008105\n",
      "Duration:              0:02:32.963696\n",
      "num_nn_train:          5\n",
      "num_nn_test:           2\n",
      "radius_nn_predict:     0.005\n",
      "radius_sub_nn_predict: 0.01\n",
      "\n",
      "Test RMSE (plain):              6.898321878000977\n",
      "Test RMSE (back to y-space):    1.9171456397326014\n",
      "Test RMSE (min among clusters): 6.059443064025617\n",
      "Duration:              0:10:48.528335\n",
      "num_nn_train:          5\n",
      "num_nn_test:           2\n",
      "radius_nn_predict:     0.02\n",
      "radius_sub_nn_predict: 0.0005\n",
      "\n",
      "Test RMSE (plain):              6.897189130913184\n",
      "Test RMSE (back to y-space):    2.0510249759441717\n",
      "Test RMSE (min among clusters): 6.0784125408407395\n",
      "Duration:              0:03:35.602531\n",
      "num_nn_train:          5\n",
      "num_nn_test:           2\n",
      "radius_nn_predict:     0.02\n",
      "radius_sub_nn_predict: 0.01\n",
      "\n",
      "CPU times: user 1h 43min 27s, sys: 1h 34min 1s, total: 3h 17min 28s\n",
      "Wall time: 36min 11s\n"
     ]
    }
   ],
   "source": [
    "%%time\n",
    "\n",
    "for nn_train in num_nn_train:\n",
    "    for nn_test in num_nn_test:\n",
    "        for nn_predint in radius_nn_predict:\n",
    "            for sub_nn_predict in radius_sub_nn_predict:\n",
    "\n",
    "                start_time = datetime.now()\n",
    "\n",
    "                tnnr_nn_test_64 = TNNR_NN(def_func(a), n=n, seed=seed, inverse_problem=True, test_pct=0.2, val_pct=0.2,\n",
    "                                          show_summary=False, show_loss_plot=False, show_rmse=True, \n",
    "                                          mdl_wts_file='weights/tnnr_nn_test_64_Fnormal_n' + str(n) + '_inverse_a' + str(a),\n",
    "                                          num_nn_train=nn_train,\n",
    "                                          num_nn_test=nn_test,\n",
    "                                          radius_nn_predict=nn_predint,\n",
    "                                          radius_sub_nn_predict=sub_nn_predict)\n",
    "\n",
    "                end_time = datetime.now()\n",
    "                print('Duration:              {}'.format(end_time - start_time))\n",
    "                print('num_nn_train:          {}'.format(nn_train))\n",
    "                print('num_nn_test:           {}'.format(nn_test))\n",
    "                print('radius_nn_predict:     {}'.format(nn_predint))\n",
    "                print('radius_sub_nn_predict: {}'.format(sub_nn_predict))\n",
    "                print()\n",
    "                \n",
    "                del tnnr_nn_test_64\n",
    "                del start_time\n",
    "                del end_time\n",
    "                gc.collect()"
   ]
  },
  {
   "cell_type": "code",
   "execution_count": 7,
   "id": "194878fc",
   "metadata": {},
   "outputs": [
    {
     "data": {
      "text/plain": [
       "19456"
      ]
     },
     "execution_count": 7,
     "metadata": {},
     "output_type": "execute_result"
    }
   ],
   "source": [
    "gc.collect()"
   ]
  },
  {
   "cell_type": "code",
   "execution_count": null,
   "id": "9146026f",
   "metadata": {},
   "outputs": [
    {
     "name": "stdout",
     "output_type": "stream",
     "text": [
      "Test RMSE (plain):              7.18493892957439\n",
      "Test RMSE (back to y-space):    1.5952801617783976\n",
      "Test RMSE (min among clusters): 7.162910568514855\n",
      "Duration:              0:03:24.132297\n",
      "num_nn_train:          5\n",
      "num_nn_test:           1\n",
      "radius_nn_predict:     0.005\n",
      "radius_sub_nn_predict: 0.0005\n",
      "\n",
      "Test RMSE (plain):              7.1849617710546685\n",
      "Test RMSE (back to y-space):    1.6436008947123253\n",
      "Test RMSE (min among clusters): 7.1849617710546685\n",
      "Duration:              0:02:25.093067\n",
      "num_nn_train:          5\n",
      "num_nn_test:           1\n",
      "radius_nn_predict:     0.005\n",
      "radius_sub_nn_predict: 0.01\n",
      "\n",
      "Test RMSE (plain):              7.186399866942913\n",
      "Test RMSE (back to y-space):    3.795888648562046\n",
      "Test RMSE (min among clusters): 7.06792740342123\n",
      "Duration:              0:06:35.295787\n",
      "num_nn_train:          5\n",
      "num_nn_test:           1\n",
      "radius_nn_predict:     0.02\n",
      "radius_sub_nn_predict: 0.0005\n",
      "\n",
      "Test RMSE (plain):              7.185337529289356\n",
      "Test RMSE (back to y-space):    3.5869792046721054\n",
      "Test RMSE (min among clusters): 7.090918747827405\n",
      "Duration:              0:02:47.526371\n",
      "num_nn_train:          5\n",
      "num_nn_test:           1\n",
      "radius_nn_predict:     0.02\n",
      "radius_sub_nn_predict: 0.01\n",
      "\n",
      "Test RMSE (plain):              6.8989159829178215\n",
      "Test RMSE (back to y-space):    1.6934215207083048\n",
      "Test RMSE (min among clusters): 6.136657554583779\n",
      "Duration:              0:04:29.037875\n",
      "num_nn_train:          5\n",
      "num_nn_test:           2\n",
      "radius_nn_predict:     0.005\n",
      "radius_sub_nn_predict: 0.0005\n",
      "\n",
      "Test RMSE (plain):              6.8987532963016145\n",
      "Test RMSE (back to y-space):    1.7258481744360608\n",
      "Test RMSE (min among clusters): 6.1566332753174775\n",
      "Duration:              0:02:28.742215\n",
      "num_nn_train:          5\n",
      "num_nn_test:           2\n",
      "radius_nn_predict:     0.005\n",
      "radius_sub_nn_predict: 0.01\n",
      "\n"
     ]
    }
   ],
   "source": [
    "%%time\n",
    "\n",
    "# F = 0\n",
    "\n",
    "for nn_train in num_nn_train:\n",
    "    for nn_test in num_nn_test:\n",
    "        for nn_predint in radius_nn_predict:\n",
    "            for sub_nn_predict in radius_sub_nn_predict:\n",
    "\n",
    "                start_time = datetime.now()\n",
    "\n",
    "                tnnr_nn_test_64 = TNNR_NN(def_func(a), n=n, seed=seed, inverse_problem=True, test_pct=0.2, val_pct=0.2,\n",
    "                                          show_summary=False, show_loss_plot=False, show_rmse=True, \n",
    "                                          mdl_wts_file='weights/tnnr_nn_test_64_Fnormal_n' + str(n) + '_inverse_a' + str(a),\n",
    "                                          num_nn_train=nn_train,\n",
    "                                          num_nn_test=nn_test,\n",
    "                                          radius_nn_predict=nn_predint,\n",
    "                                          radius_sub_nn_predict=sub_nn_predict,\n",
    "                                          zero_F_training=True)\n",
    "\n",
    "                end_time = datetime.now()\n",
    "                print('Duration:              {}'.format(end_time - start_time))\n",
    "                print('num_nn_train:          {}'.format(nn_train))\n",
    "                print('num_nn_test:           {}'.format(nn_test))\n",
    "                print('radius_nn_predict:     {}'.format(nn_predint))\n",
    "                print('radius_sub_nn_predict: {}'.format(sub_nn_predict))\n",
    "                print()\n",
    "                \n",
    "                del tnnr_nn_test_64\n",
    "                del start_time\n",
    "                del end_time\n",
    "                gc.collect()"
   ]
  },
  {
   "cell_type": "code",
   "execution_count": null,
   "id": "a15121dd",
   "metadata": {},
   "outputs": [],
   "source": [
    "gc.collect()"
   ]
  },
  {
   "cell_type": "code",
   "execution_count": 4,
   "id": "6e3d8748",
   "metadata": {},
   "outputs": [],
   "source": [
    "num_nn_train = [5]\n",
    "num_nn_test = [2]\n",
    "radius_nn_predict = [0.02]\n",
    "radius_sub_nn_predict = [0.0005, 0.01]"
   ]
  },
  {
   "cell_type": "code",
   "execution_count": 6,
   "id": "c47ab60f",
   "metadata": {},
   "outputs": [
    {
     "name": "stdout",
     "output_type": "stream",
     "text": [
      "Test RMSE (plain):              6.89927461105081\n",
      "Test RMSE (back to y-space):    3.6318246961789145\n",
      "Test RMSE (min among clusters): 6.05002897070338\n",
      "Duration:              0:10:38.116244\n",
      "num_nn_train:          5\n",
      "num_nn_test:           2\n",
      "radius_nn_predict:     0.02\n",
      "radius_sub_nn_predict: 0.0005\n",
      "\n",
      "Test RMSE (plain):              6.898576889314654\n",
      "Test RMSE (back to y-space):    3.5885842216172943\n",
      "Test RMSE (min among clusters): 6.07131420673655\n",
      "Duration:              0:03:29.072528\n",
      "num_nn_train:          5\n",
      "num_nn_test:           2\n",
      "radius_nn_predict:     0.02\n",
      "radius_sub_nn_predict: 0.01\n",
      "\n",
      "CPU times: user 50min 34s, sys: 44min 6s, total: 1h 34min 41s\n",
      "Wall time: 14min 7s\n"
     ]
    }
   ],
   "source": [
    "%%time\n",
    "\n",
    "# F = 0\n",
    "\n",
    "for nn_train in num_nn_train:\n",
    "    for nn_test in num_nn_test:\n",
    "        for nn_predint in radius_nn_predict:\n",
    "            for sub_nn_predict in radius_sub_nn_predict:\n",
    "\n",
    "                start_time = datetime.now()\n",
    "\n",
    "                tnnr_nn_test_64 = TNNR_NN(def_func(a), n=n, seed=seed, inverse_problem=True, test_pct=0.2, val_pct=0.2,\n",
    "                                          show_summary=False, show_loss_plot=False, show_rmse=True, \n",
    "                                          mdl_wts_file='weights/tnnr_nn_test_64_Fnormal_n' + str(n) + '_inverse_a' + str(a),\n",
    "                                          num_nn_train=nn_train,\n",
    "                                          num_nn_test=nn_test,\n",
    "                                          radius_nn_predict=nn_predint,\n",
    "                                          radius_sub_nn_predict=sub_nn_predict,\n",
    "                                          zero_F_training=True)\n",
    "\n",
    "                end_time = datetime.now()\n",
    "                print('Duration:              {}'.format(end_time - start_time))\n",
    "                print('num_nn_train:          {}'.format(nn_train))\n",
    "                print('num_nn_test:           {}'.format(nn_test))\n",
    "                print('radius_nn_predict:     {}'.format(nn_predint))\n",
    "                print('radius_sub_nn_predict: {}'.format(sub_nn_predict))\n",
    "                print()\n",
    "                \n",
    "                del tnnr_nn_test_64\n",
    "                del start_time\n",
    "                del end_time\n",
    "                gc.collect()"
   ]
  },
  {
   "cell_type": "code",
   "execution_count": 7,
   "id": "30d1b0d8",
   "metadata": {},
   "outputs": [
    {
     "data": {
      "text/plain": [
       "4864"
      ]
     },
     "execution_count": 7,
     "metadata": {},
     "output_type": "execute_result"
    }
   ],
   "source": [
    "gc.collect()"
   ]
  },
  {
   "cell_type": "code",
   "execution_count": null,
   "id": "4aec61ff",
   "metadata": {},
   "outputs": [],
   "source": []
  }
 ],
 "metadata": {
  "kernelspec": {
   "display_name": "Python 3 (ipykernel)",
   "language": "python",
   "name": "python3"
  },
  "language_info": {
   "codemirror_mode": {
    "name": "ipython",
    "version": 3
   },
   "file_extension": ".py",
   "mimetype": "text/x-python",
   "name": "python",
   "nbconvert_exporter": "python",
   "pygments_lexer": "ipython3",
   "version": "3.10.11"
  }
 },
 "nbformat": 4,
 "nbformat_minor": 5
}
